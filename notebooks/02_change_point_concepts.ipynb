{
 "cells": [
  {
   "cell_type": "code",
   "execution_count": null,
   "id": "6c7e8610",
   "metadata": {
    "vscode": {
     "languageId": "plaintext"
    }
   },
   "outputs": [],
   "source": [
    "# 1. Import Libraries\n",
    "import pandas as pd\n",
    "import matplotlib.pyplot as plt\n",
    "import ruptures as rpt\n",
    "\n",
    "from src.data_loader import load_oil_data\n",
    "\n",
    "# 2. Load Data\n",
    "df = load_oil_data(\"../data/brent_oil_prices.csv\")\n",
    "prices = df['Price'].values\n",
    "\n",
    "# 3. Plot Original Series\n",
    "plt.figure(figsize=(14, 6))\n",
    "plt.plot(df['Date'], prices, label=\"Brent Oil Price\")\n",
    "plt.title(\"Brent Oil Price (1987–2022)\")\n",
    "plt.xlabel(\"Date\")\n",
    "plt.ylabel(\"Price (USD)\")\n",
    "plt.grid(True)\n",
    "plt.tight_layout()\n",
    "plt.show()\n"
   ]
  },
  {
   "cell_type": "code",
   "execution_count": null,
   "id": "8a14ac5a",
   "metadata": {
    "vscode": {
     "languageId": "plaintext"
    }
   },
   "outputs": [],
   "source": [
    "# 4. Change Point Detection - Mean Shift (Pelt + L2 cost)\n",
    "model = \"l2\"  # cost function: least squares\n",
    "algo = rpt.Pelt(model=model).fit(prices)\n",
    "breaks = algo.predict(pen=10)  # increase penalty for fewer breakpoints\n",
    "\n",
    "# 5. Plot Results\n",
    "rpt.display(prices, breaks, figsize=(14, 6))\n",
    "plt.title(\"Detected Change Points in Brent Oil Prices\")\n",
    "plt.ylabel(\"Price (USD)\")\n",
    "plt.show()\n"
   ]
  },
  {
   "cell_type": "code",
   "execution_count": null,
   "id": "4d3e1324",
   "metadata": {
    "vscode": {
     "languageId": "plaintext"
    }
   },
   "outputs": [],
   "source": [
    "# 6. Print Change Dates\n",
    "print(\"Detected change points at:\")\n",
    "for i in breaks:\n",
    "    if i < len(df):\n",
    "        print(f\"- {df.iloc[i]['Date'].date()} at index {i}\")\n"
   ]
  },
  {
   "cell_type": "code",
   "execution_count": null,
   "id": "3d6c9c73",
   "metadata": {
    "vscode": {
     "languageId": "plaintext"
    }
   },
   "outputs": [],
   "source": [
    "# 7. Optional: Overlay Events\n",
    "from src.event_data import load_event_data\n",
    "\n",
    "event_df = load_event_data(\"../data/major_events.csv\")\n",
    "\n",
    "plt.figure(figsize=(14, 6))\n",
    "plt.plot(df['Date'], df['Price'], label='Brent Oil Price')\n",
    "for i in breaks:\n",
    "    plt.axvline(df.iloc[i]['Date'], color='red', linestyle='--', alpha=0.7)\n",
    "\n",
    "for _, row in event_df.iterrows():\n",
    "    plt.axvline(row['Date'], color='blue', linestyle=':', alpha=0.6)\n",
    "    plt.text(row['Date'], max(df['Price']), row['Event'], rotation=90, fontsize=8, color='blue')\n",
    "\n",
    "plt.title(\"Change Points and Major Events\")\n",
    "plt.xlabel(\"Date\")\n",
    "plt.ylabel(\"Price (USD)\")\n",
    "plt.legend(['Price', 'Change Point', 'Event'], loc='upper left')\n",
    "plt.tight_layout()\n",
    "plt.grid(True)\n",
    "plt.show()\n"
   ]
  }
 ],
 "metadata": {
  "language_info": {
   "name": "python"
  }
 },
 "nbformat": 4,
 "nbformat_minor": 5
}
