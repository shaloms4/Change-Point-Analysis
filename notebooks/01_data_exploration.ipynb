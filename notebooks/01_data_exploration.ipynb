{
 "cells": [
  {
   "cell_type": "code",
   "execution_count": null,
   "id": "7c9a6acf",
   "metadata": {
    "vscode": {
     "languageId": "plaintext"
    }
   },
   "outputs": [],
   "source": [
    "from src.data_loader import load_oil_data\n",
    "from src.time_series_analysis import plot_price_series, adf_test, kpss_test\n",
    "from src.utils import print_assumptions\n",
    "\n",
    "df = load_oil_data(\"./data/brent_oil_prices.csv\")\n",
    "plot_price_series(df)\n",
    "\n",
    "# Stationarity Tests\n",
    "print(\"ADF Test:\", adf_test(df['Price']))\n",
    "print(\"KPSS Test:\", kpss_test(df['Price']))\n",
    "\n",
    "# Discuss findings\n",
    "print_assumptions()\n"
   ]
  }
 ],
 "metadata": {
  "language_info": {
   "name": "python"
  }
 },
 "nbformat": 4,
 "nbformat_minor": 5
}
